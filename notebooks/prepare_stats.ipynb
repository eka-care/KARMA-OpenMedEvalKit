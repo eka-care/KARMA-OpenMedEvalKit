{
 "cells": [
  {
   "cell_type": "code",
   "id": "initial_id",
   "metadata": {
    "collapsed": true,
    "ExecuteTime": {
     "end_time": "2025-07-07T13:50:31.337319Z",
     "start_time": "2025-07-07T13:50:31.332687Z"
    }
   },
   "source": [
    "import sys\n",
    "import os\n",
    "\n",
    "from karma.cache import CacheManager\n",
    "from karma.models.medgemma import MedGemmaLLM\n",
    "\n",
    "# Add the project root to Python path so we can import karma\n",
    "sys.path.append(os.path.dirname(os.getcwd()))\n"
   ],
   "outputs": [],
   "execution_count": 2
  },
  {
   "metadata": {
    "ExecuteTime": {
     "end_time": "2025-07-07T13:52:07.177379Z",
     "start_time": "2025-07-07T13:52:03.097810Z"
    }
   },
   "cell_type": "code",
   "source": [
    "from karma.eval_datasets.medmcqa_dataset import MedMCQADataset\n",
    "\n",
    "dataset = MedMCQADataset(**{'dataset_name': 'openlifescienceai/medmcqa', 'split':'validation'})"
   ],
   "id": "50e222c778f1fd56",
   "outputs": [],
   "execution_count": 4
  },
  {
   "metadata": {
    "ExecuteTime": {
     "end_time": "2025-07-07T13:52:11.121224Z",
     "start_time": "2025-07-07T13:52:07.184795Z"
    }
   },
   "cell_type": "code",
   "source": [
    "from karma.models.medgemma import MedGemmaModel\n",
    "from karma.metrics.common_metrics import ExactMatchMetric, F1Metric\n",
    "from karma.benchmark import Benchmark\n",
    "\n",
    "mertric_configs = [\n",
    "    {\n",
    "        \"metric\": ExactMatchMetric(),\n",
    "        \"processors\": []\n",
    "    },\n",
    "    {\n",
    "        \"metric\": F1Metric(),\n",
    "        \"processors\": []\n",
    "    }\n",
    "]\n",
    "cache_manager = CacheManager(model_config=MedGemmaModel, dataset_name=dataset.dataset_name)"
   ],
   "id": "7d41fded11cb4590",
   "outputs": [
    {
     "name": "stderr",
     "output_type": "stream",
     "text": [
      "Downloading builder script: 6.79kB [00:00, 4.69MB/s]"
     ]
    },
    {
     "name": "stdout",
     "output_type": "stream",
     "text": [
      "✅ Connected to DuckDB at cache.db\n",
      "✅ DuckDB persistent storage connected\n"
     ]
    },
    {
     "name": "stderr",
     "output_type": "stream",
     "text": [
      "\n"
     ]
    }
   ],
   "execution_count": 5
  },
  {
   "metadata": {
    "ExecuteTime": {
     "end_time": "2025-07-07T13:55:09.818998Z",
     "start_time": "2025-07-07T13:55:09.814866Z"
    }
   },
   "cell_type": "code",
   "source": "benchmark = Benchmark(model=None, dataset=dataset, cache_manager=cache_manager)",
   "id": "2ed954bb956d3e41",
   "outputs": [],
   "execution_count": 7
  },
  {
   "metadata": {
    "ExecuteTime": {
     "end_time": "2025-07-07T13:57:39.316595Z",
     "start_time": "2025-07-07T13:55:12.591925Z"
    }
   },
   "cell_type": "code",
   "source": "out = benchmark.evaluate(metrics=mertric_configs, dry_run=True)",
   "id": "1f543feb9e478a8e",
   "outputs": [
    {
     "ename": "KeyboardInterrupt",
     "evalue": "",
     "output_type": "error",
     "traceback": [
      "\u001B[31m---------------------------------------------------------------------------\u001B[39m",
      "\u001B[31mKeyboardInterrupt\u001B[39m                         Traceback (most recent call last)",
      "\u001B[36mCell\u001B[39m\u001B[36m \u001B[39m\u001B[32mIn[8]\u001B[39m\u001B[32m, line 1\u001B[39m\n\u001B[32m----> \u001B[39m\u001B[32m1\u001B[39m out = \u001B[43mbenchmark\u001B[49m\u001B[43m.\u001B[49m\u001B[43mevaluate\u001B[49m\u001B[43m(\u001B[49m\u001B[43mmetrics\u001B[49m\u001B[43m=\u001B[49m\u001B[43mmertric_configs\u001B[49m\u001B[43m,\u001B[49m\u001B[43m \u001B[49m\u001B[43mdry_run\u001B[49m\u001B[43m=\u001B[49m\u001B[38;5;28;43;01mTrue\u001B[39;49;00m\u001B[43m)\u001B[49m\n",
      "\u001B[36mFile \u001B[39m\u001B[32m~/PycharmProjects/KARMA-OpenMedEvalKit/karma/benchmark.py:326\u001B[39m, in \u001B[36mBenchmark.evaluate\u001B[39m\u001B[34m(self, metrics, batch_size, dry_run)\u001B[39m\n\u001B[32m    322\u001B[39m \u001B[38;5;66;03m# samples = [\u001B[39;00m\n\u001B[32m    323\u001B[39m \u001B[38;5;66;03m#     dict(s) for s in samples\u001B[39;00m\n\u001B[32m    324\u001B[39m \u001B[38;5;66;03m# ]  # Ensure samples are proper dictionaries\u001B[39;00m\n\u001B[32m    325\u001B[39m \u001B[38;5;28;01mif\u001B[39;00m \u001B[38;5;28mself\u001B[39m.enable_cache:\n\u001B[32m--> \u001B[39m\u001B[32m326\u001B[39m     batch_results, samples_to_generate = \u001B[38;5;28;43mself\u001B[39;49m\u001B[43m.\u001B[49m\u001B[43mfetch_from_cache\u001B[49m\u001B[43m(\u001B[49m\u001B[43msamples\u001B[49m\u001B[43m)\u001B[49m\n\u001B[32m    327\u001B[39m \u001B[38;5;28;01melse\u001B[39;00m:\n\u001B[32m    328\u001B[39m     samples_to_generate = samples\n",
      "\u001B[36mFile \u001B[39m\u001B[32m~/PycharmProjects/KARMA-OpenMedEvalKit/karma/benchmark.py:126\u001B[39m, in \u001B[36mBenchmark.fetch_from_cache\u001B[39m\u001B[34m(self, samples)\u001B[39m\n\u001B[32m    124\u001B[39m samples_to_generate = []\n\u001B[32m    125\u001B[39m \u001B[38;5;66;03m# Step 1: Check cache for existing results\u001B[39;00m\n\u001B[32m--> \u001B[39m\u001B[32m126\u001B[39m cache_results = \u001B[38;5;28;43mself\u001B[39;49m\u001B[43m.\u001B[49m\u001B[43mcache_manager\u001B[49m\u001B[43m.\u001B[49m\u001B[43mbatch_fetch_rows\u001B[49m\u001B[43m(\u001B[49m\u001B[43msamples\u001B[49m\u001B[43m)\u001B[49m\n\u001B[32m    127\u001B[39m cache_hits = \u001B[32m0\u001B[39m\n\u001B[32m    129\u001B[39m \u001B[38;5;28;01mfor\u001B[39;00m sample, cache_result \u001B[38;5;129;01min\u001B[39;00m \u001B[38;5;28mzip\u001B[39m(samples, cache_results, strict=\u001B[38;5;28;01mFalse\u001B[39;00m):\n",
      "\u001B[36mFile \u001B[39m\u001B[32m~/PycharmProjects/KARMA-OpenMedEvalKit/karma/cache/cache_manager.py:214\u001B[39m, in \u001B[36mCacheManager.batch_fetch_rows\u001B[39m\u001B[34m(self, model_inputs)\u001B[39m\n\u001B[32m    212\u001B[39m # Use centralized batch cache key generation\n\u001B[32m    213\u001B[39m _, cache_keys = self._batch_generate_cache_keys(model_inputs)\n\u001B[32m--> \u001B[39m\u001B[32m214\u001B[39m # Batch fetch from database\n\u001B[32m    215\u001B[39m cache_results = self.cache_io.batch_get_inference_results(cache_keys)\n\u001B[32m    216\u001B[39m # Process results and update statistics\n",
      "\u001B[36mFile \u001B[39m\u001B[32m_pydevd_bundle/pydevd_cython_darwin_312_64.pyx:1187\u001B[39m, in \u001B[36m_pydevd_bundle.pydevd_cython_darwin_312_64.SafeCallWrapper.__call__\u001B[39m\u001B[34m()\u001B[39m\n",
      "\u001B[36mFile \u001B[39m\u001B[32m_pydevd_bundle/pydevd_cython_darwin_312_64.pyx:627\u001B[39m, in \u001B[36m_pydevd_bundle.pydevd_cython_darwin_312_64.PyDBFrame.trace_dispatch\u001B[39m\u001B[34m()\u001B[39m\n",
      "\u001B[36mFile \u001B[39m\u001B[32m_pydevd_bundle/pydevd_cython_darwin_312_64.pyx:1103\u001B[39m, in \u001B[36m_pydevd_bundle.pydevd_cython_darwin_312_64.PyDBFrame.trace_dispatch\u001B[39m\u001B[34m()\u001B[39m\n",
      "\u001B[36mFile \u001B[39m\u001B[32m_pydevd_bundle/pydevd_cython_darwin_312_64.pyx:1065\u001B[39m, in \u001B[36m_pydevd_bundle.pydevd_cython_darwin_312_64.PyDBFrame.trace_dispatch\u001B[39m\u001B[34m()\u001B[39m\n",
      "\u001B[36mFile \u001B[39m\u001B[32m_pydevd_bundle/pydevd_cython_darwin_312_64.pyx:585\u001B[39m, in \u001B[36m_pydevd_bundle.pydevd_cython_darwin_312_64.PyDBFrame.do_wait_suspend\u001B[39m\u001B[34m()\u001B[39m\n",
      "\u001B[36mFile \u001B[39m\u001B[32m/Applications/PyCharm.app/Contents/plugins/python-ce/helpers/pydev/pydevd.py:1220\u001B[39m, in \u001B[36mPyDB.do_wait_suspend\u001B[39m\u001B[34m(self, thread, frame, event, arg, send_suspend_message, is_unhandled_exception)\u001B[39m\n\u001B[32m   1217\u001B[39m         from_this_thread.append(frame_id)\n\u001B[32m   1219\u001B[39m \u001B[38;5;28;01mwith\u001B[39;00m \u001B[38;5;28mself\u001B[39m._threads_suspended_single_notification.notify_thread_suspended(thread_id, stop_reason):\n\u001B[32m-> \u001B[39m\u001B[32m1220\u001B[39m     \u001B[38;5;28;43mself\u001B[39;49m\u001B[43m.\u001B[49m\u001B[43m_do_wait_suspend\u001B[49m\u001B[43m(\u001B[49m\u001B[43mthread\u001B[49m\u001B[43m,\u001B[49m\u001B[43m \u001B[49m\u001B[43mframe\u001B[49m\u001B[43m,\u001B[49m\u001B[43m \u001B[49m\u001B[43mevent\u001B[49m\u001B[43m,\u001B[49m\u001B[43m \u001B[49m\u001B[43marg\u001B[49m\u001B[43m,\u001B[49m\u001B[43m \u001B[49m\u001B[43msuspend_type\u001B[49m\u001B[43m,\u001B[49m\u001B[43m \u001B[49m\u001B[43mfrom_this_thread\u001B[49m\u001B[43m)\u001B[49m\n",
      "\u001B[36mFile \u001B[39m\u001B[32m/Applications/PyCharm.app/Contents/plugins/python-ce/helpers/pydev/pydevd.py:1235\u001B[39m, in \u001B[36mPyDB._do_wait_suspend\u001B[39m\u001B[34m(self, thread, frame, event, arg, suspend_type, from_this_thread)\u001B[39m\n\u001B[32m   1232\u001B[39m             \u001B[38;5;28mself\u001B[39m._call_mpl_hook()\n\u001B[32m   1234\u001B[39m         \u001B[38;5;28mself\u001B[39m.process_internal_commands()\n\u001B[32m-> \u001B[39m\u001B[32m1235\u001B[39m         \u001B[43mtime\u001B[49m\u001B[43m.\u001B[49m\u001B[43msleep\u001B[49m\u001B[43m(\u001B[49m\u001B[32;43m0.01\u001B[39;49m\u001B[43m)\u001B[49m\n\u001B[32m   1237\u001B[39m \u001B[38;5;28mself\u001B[39m.cancel_async_evaluation(get_current_thread_id(thread), \u001B[38;5;28mstr\u001B[39m(\u001B[38;5;28mid\u001B[39m(frame)))\n\u001B[32m   1239\u001B[39m \u001B[38;5;66;03m# process any stepping instructions\u001B[39;00m\n",
      "\u001B[31mKeyboardInterrupt\u001B[39m: "
     ]
    }
   ],
   "execution_count": 8
  },
  {
   "metadata": {},
   "cell_type": "code",
   "outputs": [],
   "execution_count": null,
   "source": "",
   "id": "1d48ddd3c8f3b84e"
  }
 ],
 "metadata": {
  "kernelspec": {
   "display_name": "Python 3",
   "language": "python",
   "name": "python3"
  },
  "language_info": {
   "codemirror_mode": {
    "name": "ipython",
    "version": 2
   },
   "file_extension": ".py",
   "mimetype": "text/x-python",
   "name": "python",
   "nbconvert_exporter": "python",
   "pygments_lexer": "ipython2",
   "version": "2.7.6"
  }
 },
 "nbformat": 4,
 "nbformat_minor": 5
}
