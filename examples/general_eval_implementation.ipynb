{
 "cells": [
  {
   "cell_type": "code",
   "execution_count": 1,
   "metadata": {},
   "outputs": [],
   "source": [
    "import sys\n",
    "import os\n",
    "# Add the project root to Python path so we can import karma\n",
    "sys.path.append(os.path.dirname(os.getcwd()))\n"
   ]
  },
  {
   "cell_type": "code",
   "execution_count": 9,
   "metadata": {},
   "outputs": [
    {
     "name": "stdout",
     "output_type": "stream",
     "text": [
      "✅ Connected to DuckDB at cache.db\n",
      "✅ DuckDB persistent storage connected\n"
     ]
    }
   ],
   "source": [
    "from karma.models.indic_conformer import IndicConformerASR, INDIC_CONFORMER_MULTILINGUAL_META\n",
    "from karma.eval_datasets.indicvoices_r_dataset import IndicVoicesRDataset\n",
    "from karma.metrics.common_metrics import WERMetric, CERMetric\n",
    "from karma.benchmark import Benchmark\n",
    "from karma.metrics.asr_wer_preprocessor import ASRTextProcessor\n",
    "from karma.cache.cache_manager import CacheManager\n",
    "\n",
    "\n",
    "model = IndicConformerASR(model_name_or_path=\"ai4bharat/indic-conformer-600m-multilingual\")\n",
    "processor = ASRTextProcessor(use_glm=True, use_num2text=True, use_punc=True, use_lowercasing=True, language=\"hi\")\n",
    "dataset = IndicVoicesRDataset(language=\"Hindi\", postprocessors=[processor])\n",
    "mertric_configs = [\n",
    "    {\n",
    "        \"metric\": WERMetric(metric_name=\"wer\"),\n",
    "        \"processors\": []\n",
    "    },\n",
    "    {\n",
    "        \"metric\": CERMetric(metric_name=\"cer\"),\n",
    "        \"processors\": []\n",
    "    }\n",
    "]\n",
    "cache_manager = CacheManager(model_config=INDIC_CONFORMER_MULTILINGUAL_META, dataset_name=dataset.dataset_name)"
   ]
  },
  {
   "cell_type": "code",
   "execution_count": 10,
   "metadata": {},
   "outputs": [],
   "source": [
    "benchmark = Benchmark(model=model, dataset=dataset, cache_manager=cache_manager)"
   ]
  },
  {
   "cell_type": "code",
   "execution_count": 11,
   "metadata": {},
   "outputs": [
    {
     "name": "stderr",
     "output_type": "stream",
     "text": [
      "Fetching 403 files: 100%|██████████| 403/403 [00:00<00:00, 7968.21it/s]\n"
     ]
    },
    {
     "data": {
      "text/plain": [
       "{'overall_score': {'wer': 0.022222222222222223, 'cer': 0.005025125628140704},\n",
       " 'predictions': [{'prediction': 'इसके अलावा कई सारी ऐसी पत्रिकाएँ भी समाचार पत्र के साथ आती हैं',\n",
       "   'expected_output': 'इसके अलावा कई सारी ऐसे पत्रिकाएँ भी समाचार पत्र के साथ आती हैं',\n",
       "   'sample': {'expected_output': 'इसके अलावा कई सारी ऐसे पत्रिकाएँ भी समाचार पत्र के साथ आती हैं',\n",
       "    'audio': array([-2.9122859e-04, -9.7828422e-05, -2.2524942e-04, ...,\n",
       "           -1.3460522e-04, -9.2088187e-05,  0.0000000e+00],\n",
       "          shape=(80881,), dtype=float32),\n",
       "    'other_args': {'language': 'hi'}},\n",
       "   'from_cache': False,\n",
       "   'success': True},\n",
       "  {'prediction': 'क्योंकि मेरे घर में कुछ लोग को चाय पसंद है और कुछ लोग को कॉफी पीना पसंद है',\n",
       "   'expected_output': 'क्योंकि मेरे घर में कुछ लोग को चाय पसंद है और कुछ लोग को कॉफी पीना पसंद है',\n",
       "   'sample': {'expected_output': 'क्योंकि मेरे घर में कुछ लोग को चाय पसंद है और कुछ लोग को कॉफी पीना पसंद है',\n",
       "    'audio': array([-1.6141692e-04,  9.6207863e-05, -1.4705223e-04, ...,\n",
       "            0.0000000e+00,  0.0000000e+00,  0.0000000e+00],\n",
       "          shape=(82432,), dtype=float32),\n",
       "    'other_args': {'language': 'hi'}},\n",
       "   'from_cache': False,\n",
       "   'success': True},\n",
       "  {'prediction': 'क्योंकि वह ऐसा बात बोलते हैं जो हम नॉर्मल लोग नहीं समझ पाते हैं',\n",
       "   'expected_output': 'क्योंकि वह ऐसा बात बोलते हैं जो हम नॉर्मल लोग नहीं समझ पाते हैं',\n",
       "   'sample': {'expected_output': 'क्योंकि वह ऐसा बात बोलते हैं जो हम नॉर्मल लोग नहीं समझ पाते हैं',\n",
       "    'audio': array([-3.9951876e-05,  5.8670342e-04, -1.8704496e-04, ...,\n",
       "           -5.3739366e-03, -2.0727185e-03,  0.0000000e+00],\n",
       "          shape=(90113,), dtype=float32),\n",
       "    'other_args': {'language': 'hi'}},\n",
       "   'from_cache': False,\n",
       "   'success': True}],\n",
       " 'summary': {'overall_score': {'wer': 0.022222222222222223,\n",
       "   'cer': 0.005025125628140704},\n",
       "  'evaluation_time': 44.66871500015259}}"
      ]
     },
     "execution_count": 11,
     "metadata": {},
     "output_type": "execute_result"
    }
   ],
   "source": [
    "benchmark.evaluate(metric_configs=mertric_configs, batch_size=1)"
   ]
  },
  {
   "cell_type": "code",
   "execution_count": null,
   "metadata": {},
   "outputs": [],
   "source": []
  }
 ],
 "metadata": {
  "kernelspec": {
   "display_name": ".venv",
   "language": "python",
   "name": "python3"
  },
  "language_info": {
   "codemirror_mode": {
    "name": "ipython",
    "version": 3
   },
   "file_extension": ".py",
   "mimetype": "text/x-python",
   "name": "python",
   "nbconvert_exporter": "python",
   "pygments_lexer": "ipython3",
   "version": "3.12.2"
  }
 },
 "nbformat": 4,
 "nbformat_minor": 2
}
