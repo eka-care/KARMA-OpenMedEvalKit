{
 "cells": [
  {
   "metadata": {},
   "cell_type": "code",
   "outputs": [],
   "execution_count": null,
   "source": [
    "import sys\n",
    "import os"
   ]
  },
  {
   "metadata": {},
   "cell_type": "code",
   "outputs": [],
   "execution_count": null,
   "source": [
    "from karma.models.indic_conformer import IndicConformerASR, INDIC_CONFORMER_MULTILINGUAL_META\n",
    "from karma.eval_datasets.indicvoices_r_dataset import IndicVoicesRDataset\n",
    "from karma.metrics.common_metrics import WERMetric, CERMetric\n",
    "from karma.benchmark import Benchmark\n",
    "from karma.processors.multilingual_text_processor import MultilingualTextProcessor\n",
    "from karma.cache.cache_manager import CacheManager\n",
    "\n",
    "\n",
    "model = IndicConformerASR(model_name_or_path=\"ai4bharat/indic-conformer-600m-multilingual\")\n",
    "processor = MultilingualTextProcessor()\n",
    "dataset = IndicVoicesRDataset(language=\"Hindi\", postprocessors=[processor])\n",
    "mertric_configs = [\n",
    "    {\n",
    "        \"metric\": WERMetric(metric_name=\"wer\"),\n",
    "        \"processors\": []\n",
    "    },\n",
    "    {\n",
    "        \"metric\": CERMetric(metric_name=\"cer\"),\n",
    "        \"processors\": []\n",
    "    }\n",
    "]\n",
    "cache_manager = CacheManager(model_config=INDIC_CONFORMER_MULTILINGUAL_META, dataset_name=dataset.dataset_name)"
   ]
  },
  {
   "metadata": {},
   "cell_type": "code",
   "outputs": [],
   "execution_count": null,
   "source": "benchmark = Benchmark(model=model, dataset=dataset, cache_manager=cache_manager)"
  },
  {
   "metadata": {},
   "cell_type": "code",
   "outputs": [],
   "execution_count": null,
   "source": "benchmark.evaluate(metric_configs=mertric_configs, batch_size=1)"
  },
  {
   "metadata": {},
   "cell_type": "code",
   "outputs": [],
   "execution_count": null,
   "source": ""
  }
 ],
 "metadata": {
  "kernelspec": {
   "display_name": ".venv",
   "language": "python",
   "name": "python3"
  },
  "language_info": {
   "codemirror_mode": {
    "name": "ipython",
    "version": 3
   },
   "file_extension": ".py",
   "mimetype": "text/x-python",
   "name": "python",
   "nbconvert_exporter": "python",
   "pygments_lexer": "ipython3",
   "version": "3.12.2"
  }
 },
 "nbformat": 4,
 "nbformat_minor": 2
}
