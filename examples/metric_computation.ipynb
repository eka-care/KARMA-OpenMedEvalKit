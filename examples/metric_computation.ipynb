{
 "cells": [
  {
   "cell_type": "code",
   "execution_count": 1,
   "id": "1b42f198",
   "metadata": {},
   "outputs": [],
   "source": [
    "import pandas as pd"
   ]
  },
  {
   "cell_type": "code",
   "execution_count": 2,
   "id": "c0d49bc6",
   "metadata": {},
   "outputs": [],
   "source": [
    "import sys\n",
    "import os\n",
    "# Add the project root to Python path so we can import karma\n",
    "sys.path.append(os.path.dirname(os.getcwd()))\n"
   ]
  },
  {
   "cell_type": "code",
   "execution_count": 3,
   "id": "5697d7cf",
   "metadata": {},
   "outputs": [],
   "source": [
    "import json"
   ]
  },
  {
   "cell_type": "code",
   "execution_count": 4,
   "id": "76c8f4f1",
   "metadata": {},
   "outputs": [],
   "source": [
    "data = []\n",
    "with open('./whisper_medgemma_cpt_results_3625_eval.jsonl', 'r') as f:\n",
    "    for line in f:\n",
    "        data.append(json.loads(line.strip()))"
   ]
  },
  {
   "cell_type": "code",
   "execution_count": 5,
   "id": "e001e051",
   "metadata": {},
   "outputs": [
    {
     "data": {
      "text/plain": [
       "{'gt_label': 'not having adequate rest. Okay okay. So that continues for better part of the day. Hmm, hmm, hmm. Then',\n",
       " 'pred_label': 'Not having adequate rest.',\n",
       " 'filename': '/250427/ce-73d4588f-143b-4ffb-8944-a8df7f811c16/7.m4a',\n",
       " 'md5_text': '05e1834395bd772db887a07769e53c3d',\n",
       " 'md5_audio': 'df654cc44ffd1fd350e960c4b3555573',\n",
       " 'duration': 10.4960002899,\n",
       " 'audio_language': 'en',\n",
       " 'text_language': 'en',\n",
       " 'session_id': 'ce-73d4588f-143b-4ffb-8944-a8df7f811c16',\n",
       " 'speaker': None,\n",
       " 'type_concept': 'misc_medical',\n",
       " 'recording_context': 'conversation',\n",
       " 'medical_entities': '[[\"adequate rest\", \"advices\", [[11, 24]]]]'}"
      ]
     },
     "execution_count": 5,
     "metadata": {},
     "output_type": "execute_result"
    }
   ],
   "source": [
    "data[0]"
   ]
  },
  {
   "cell_type": "code",
   "execution_count": 8,
   "id": "916fe597",
   "metadata": {},
   "outputs": [
    {
     "name": "stdout",
     "output_type": "stream",
     "text": [
      "Not having adequate rest.\n",
      "not having adequate rest. Okay okay. So that continues for better part of the day. Hmm, hmm, hmm. Then\n",
      "[[\"adequate rest\", \"advices\", [[11, 24]]]]\n"
     ]
    }
   ],
   "source": [
    "predictions, references, entities = [], [], []\n",
    "block = ['2f23c03f6bdeeddbef6e3350ec09e878', \n",
    "                    '176a9b777d0ee4056b09c3a17555eaad',\n",
    "                    '8b9552bf1ced5a352ae9914cc2070dc1'\n",
    "                        'd035d0d388153489c6c7dabc34ec7cd6',\n",
    "                        '008c7304b5cab7c0debe61557dd97560',\n",
    "                        '640b4355626caff9976cea42bad81221',\n",
    "                        '289d4e1ede30ed313e8df2ad9f64831b',\n",
    "                        '05f32a1eac32e38fc3c546b3698daffe']\n",
    "for item in data:\n",
    "    if item['md5_text'] not in block:\n",
    "        predictions.append(item['pred_label'])\n",
    "        references.append(item['gt_label'])\n",
    "        entities.append(item['medical_entities'])\n",
    "\n",
    "print(predictions[0])\n",
    "print(references[0])\n",
    "print(entities[0])\n",
    "# predictions = [predictions[3]]\n",
    "# references = [references[3]]\n",
    "# entities = [entities[3]]\n",
    "\n",
    "# print(predictions[0])\n",
    "# print(references[0])\n",
    "# print(entities[0])"
   ]
  },
  {
   "cell_type": "code",
   "execution_count": 9,
   "id": "e0055f85",
   "metadata": {},
   "outputs": [
    {
     "data": {
      "text/plain": [
       "3619"
      ]
     },
     "execution_count": 9,
     "metadata": {},
     "output_type": "execute_result"
    }
   ],
   "source": [
    "len(predictions)"
   ]
  },
  {
   "cell_type": "code",
   "execution_count": null,
   "id": "28244387",
   "metadata": {},
   "outputs": [
    {
     "name": "stdout",
     "output_type": "stream",
     "text": [
      "0.17588439523318006\n",
      "0.06787502753943349\n"
     ]
    }
   ],
   "source": [
    "from karma.metrics.common_metrics import WERMetric, CERMetric\n",
    "from karma.metrics.asr.asr_semantic_metrics import ASRSemanticMetrics\n",
    "from karma.processors.general_text_processor import GeneralTextProcessor\n",
    "\n",
    "# processor = GeneralTextProcessor()\n",
    "\n",
    "# predictions = processor.process(predictions)\n",
    "# references = processor.process(references)\n",
    "\n",
    "wer = WERMetric()\n",
    "cer = CERMetric()\n",
    "asr_semantic_metric = ASRSemanticMetrics(metric_name=\"asr_semantic_metric\")  \n",
    "\n",
    "print(wer.evaluate(predictions, references))\n",
    "print(cer.evaluate(predictions, references))\n",
    "asr_sem = asr_semantic_metric.evaluate(predictions, references, language=\"en\", entities=entities)\n",
    "print(asr_sem)"
   ]
  },
  {
   "cell_type": "code",
   "execution_count": 9,
   "id": "d9e47459",
   "metadata": {},
   "outputs": [],
   "source": [
    "import json\n",
    "data = json.loads(entities[0])"
   ]
  },
  {
   "cell_type": "code",
   "execution_count": 10,
   "id": "1133f31b",
   "metadata": {},
   "outputs": [
    {
     "ename": "NameError",
     "evalue": "name 'predicyio' is not defined",
     "output_type": "error",
     "traceback": [
      "\u001b[0;31m---------------------------------------------------------------------------\u001b[0m",
      "\u001b[0;31mNameError\u001b[0m                                 Traceback (most recent call last)",
      "Cell \u001b[0;32mIn[10], line 1\u001b[0m\n\u001b[0;32m----> 1\u001b[0m \u001b[43mpredicyio\u001b[49m\n",
      "\u001b[0;31mNameError\u001b[0m: name 'predicyio' is not defined"
     ]
    }
   ],
   "source": [
    "predicyio"
   ]
  },
  {
   "cell_type": "code",
   "execution_count": null,
   "id": "76ba8c14",
   "metadata": {},
   "outputs": [
    {
     "name": "stdout",
     "output_type": "stream",
     "text": [
      "Patient has fever, headache, back pain, leg pain all over the body. I recommend to give Dolu 650 Tablet thrice a day for 6 days and Pantop-DSR for 7 days. Ask patient to come after 12 days and give Thyroxine 25 mcg for 15 days.\n",
      "Patient has fever, headache, back pain, leg pain all over the body, I recommend to give Dolo 650 tablet thrice a day for 6 days, and I also want to give Pantop DSR for 7 days. Ask patient to come after 12 days and give thyroxine 25 mcg for 15 days.\n",
      "[[\"fever\", \"clinical_findings\", [[12, 17]]], [\"headache\", \"clinical_findings\", [[19, 27]]], [\"back pain\", \"clinical_findings\", [[29, 38]]], [\"leg pain\", \"clinical_findings\", [[40, 48]]], [\"Dolo 650\", \"drugs\", [[88, 96]]], [\"tablet\", \"drugs\", [[97, 103]]], [\"thrice a day\", \"advices\", [[104, 116]]], [\"6 days\", \"advices\", [[121, 127]]], [\"Pantop DSR\", \"drugs\", [[153, 163]]], [\"7 days\", \"advices\", [[168, 174]]], [\"12 days\", \"advices\", [[202, 209]]], [\"thyroxine\", \"drugs\", [[219, 228]]], [\"25 mcg\", \"drugs\", [[229, 235]]], [\"15 days\", \"advices\", [[240, 247]]]]\n"
     ]
    }
   ],
   "source": [
    "id =3\n",
    "print(predictions[id])\n",
    "print(references[id])\n",
    "print(entities[id])"
   ]
  },
  {
   "cell_type": "code",
   "execution_count": null,
   "id": "3fb5d2b2",
   "metadata": {},
   "outputs": [],
   "source": [
    "prediction = Patient has fever, headache, back pain, leg pain all over the body. I recommend to give Dolu 650 Tablet thrice a day for 6 days and Pantop-DSR for 7 days. Ask patient to come after 12 days and give Thyroxine 25 mcg for 15 days.\n"
   ]
  },
  {
   "cell_type": "code",
   "execution_count": null,
   "id": "f8131cb6",
   "metadata": {},
   "outputs": [
    {
     "name": "stdout",
     "output_type": "stream",
     "text": [
      "0.17605581116971533\n",
      "0.06801921352784358\n"
     ]
    }
   ],
   "source": [
    "wer = WERMetric()\n",
    "cer = CERMetric()\n",
    "\n",
    "print(wer.evaluate(predictions, references))\n",
    "print(cer.evaluate(predictions, references))"
   ]
  },
  {
   "cell_type": "code",
   "execution_count": null,
   "id": "00e16cfb",
   "metadata": {},
   "outputs": [
    {
     "data": {
      "text/plain": [
       "0.17605581116971533"
      ]
     },
     "execution_count": 12,
     "metadata": {},
     "output_type": "execute_result"
    }
   ],
   "source": [
    "wer.evaluate(predictions, references)"
   ]
  },
  {
   "cell_type": "code",
   "execution_count": null,
   "id": "4dcc0845",
   "metadata": {},
   "outputs": [
    {
     "data": {
      "text/plain": [
       "3625"
      ]
     },
     "execution_count": 16,
     "metadata": {},
     "output_type": "execute_result"
    }
   ],
   "source": []
  },
  {
   "cell_type": "code",
   "execution_count": null,
   "id": "100cce34",
   "metadata": {},
   "outputs": [],
   "source": [
    "EvalResult(semantic_wer=0.072, semantic_cer=0.038, entity_wer=0.426, num_sentences=3625, total_ref_words=28949, additional_info=None)\n"
   ]
  }
 ],
 "metadata": {
  "kernelspec": {
   "display_name": ".venv",
   "language": "python",
   "name": "python3"
  },
  "language_info": {
   "codemirror_mode": {
    "name": "ipython",
    "version": 3
   },
   "file_extension": ".py",
   "mimetype": "text/x-python",
   "name": "python",
   "nbconvert_exporter": "python",
   "pygments_lexer": "ipython3",
   "version": "3.10.18"
  }
 },
 "nbformat": 4,
 "nbformat_minor": 5
}
